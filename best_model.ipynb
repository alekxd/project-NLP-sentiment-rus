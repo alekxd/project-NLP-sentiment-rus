{
  "nbformat": 4,
  "nbformat_minor": 0,
  "metadata": {
    "colab": {
      "name": "best-model.ipynb",
      "provenance": [],
      "collapsed_sections": []
    },
    "kernelspec": {
      "name": "python3",
      "display_name": "Python 3"
    }
  },
  "cells": [
    {
      "cell_type": "code",
      "metadata": {
        "id": "kLg19mZzh1Hf",
        "colab_type": "code",
        "colab": {}
      },
      "source": [
        "import numpy as np\n",
        "import pandas as pd\n",
        "import re\n",
        "\n",
        "from sklearn.feature_extraction.text import TfidfVectorizer\n",
        "from sklearn.model_selection import train_test_split\n",
        "from sklearn.linear_model import LogisticRegression\n",
        "from sklearn.metrics import f1_score "
      ],
      "execution_count": 0,
      "outputs": []
    },
    {
      "cell_type": "code",
      "metadata": {
        "id": "LSKCLz_ke9o1",
        "colab_type": "code",
        "colab": {}
      },
      "source": [
        "!wget https://www.dropbox.com/s/r6u59ljhhjdg6j0/negative.csv\n",
        "!wget https://www.dropbox.com/s/fnpq3z4bcnoktiv/positive.csv"
      ],
      "execution_count": 0,
      "outputs": []
    },
    {
      "cell_type": "code",
      "metadata": {
        "id": "LUna3qE0gSKi",
        "colab_type": "code",
        "colab": {}
      },
      "source": [
        "df = pd.concat((pd.read_csv(f, sep=';', header=None) for f in ['positive.csv', 'negative.csv']), ignore_index=True)"
      ],
      "execution_count": 0,
      "outputs": []
    },
    {
      "cell_type": "code",
      "metadata": {
        "id": "-RK6jWU5gSH-",
        "colab_type": "code",
        "colab": {}
      },
      "source": [
        "df = df.drop(columns=[0,1,2,5,6,7,8,9,10,11])\n",
        "df.columns=['text','target']\n",
        "df.target = df.target.map({-1:0, 1:1})\n",
        "y = df.target.values"
      ],
      "execution_count": 0,
      "outputs": []
    },
    {
      "cell_type": "code",
      "metadata": {
        "id": "5WlHWjfphUvM",
        "colab_type": "code",
        "colab": {}
      },
      "source": [
        "replaces = [\n",
        " [':[(]+',' <NSMILE> '],\n",
        " [':-[(]+',' <NSMILE> '],\n",
        " ['\\([(]+',' <NSMILE> '], \n",
        " [':[)]+',' <PSMILE> '], \n",
        " [':-[)]+',' <PSMILE> '], \n",
        " ['\\)[)]+',' <PSMILE> '], \n",
        " ['@[_*,А-Я,а-я,A-Z,a-z,0-9]+\\s',' <UNAME> '],\n",
        " ['http:[\\.,/,0-9,a-z,A-Z]+[\\s|$]?', ' <HTTP> '] \n",
        "]\n",
        "\n",
        "def add_tokens(s):\n",
        "    for l, r in replaces:\n",
        "        s = re.sub(l, r, s)\n",
        "    return s "
      ],
      "execution_count": 0,
      "outputs": []
    },
    {
      "cell_type": "code",
      "metadata": {
        "id": "VdWPZC_xhUpd",
        "colab_type": "code",
        "colab": {}
      },
      "source": [
        "df['text_with_tokens'] = df.text.apply(add_tokens)\n",
        "\n",
        "vectorizer = TfidfVectorizer(\n",
        "    ngram_range=(1,1),\n",
        ")\n",
        "x = vectorizer.fit_transform(df.text_with_tokens)"
      ],
      "execution_count": 0,
      "outputs": []
    },
    {
      "cell_type": "code",
      "metadata": {
        "id": "3pZQRoYRv3-E",
        "colab_type": "code",
        "colab": {
          "base_uri": "https://localhost:8080/",
          "height": 110
        },
        "outputId": "add916b4-11c2-44a7-d758-0b5ae99c999a"
      },
      "source": [
        "np.random.seed(42)\n",
        "\n",
        "f1_scores = []\n",
        "for seed in np.random.randint(1000, size=(5)):\n",
        "    x_train, x_test, y_train, y_test = train_test_split(x, y, random_state=seed)\n",
        "    clf = LogisticRegression(\n",
        "                          C=1, random_state=42, \n",
        "                          solver = 'saga', \n",
        "                          max_iter = 100,\n",
        "                          verbose=0,\n",
        "                          )\n",
        "    clf.fit(x_train, y_train)\n",
        "    y_pred = clf.predict(x_test)\n",
        "    print(f1_score(y_pred, y_test))\n",
        "    f1_scores += [f1_score(y_pred, y_test)]"
      ],
      "execution_count": 7,
      "outputs": [
        {
          "output_type": "stream",
          "text": [
            "0.8896255330490406\n",
            "0.8888851813540659\n",
            "0.8903436988543372\n",
            "0.8896438612933458\n",
            "0.8902013781136859\n"
          ],
          "name": "stdout"
        }
      ]
    },
    {
      "cell_type": "code",
      "metadata": {
        "id": "51RA9MKuLbV0",
        "colab_type": "code",
        "colab": {
          "base_uri": "https://localhost:8080/",
          "height": 36
        },
        "outputId": "d0e119a4-7240-443e-8be6-eda39ee473ff"
      },
      "source": [
        "print('F1 score:', np.round(np.mean(f1_scores),3),'\\xB1' ,np.round(np.std(f1_scores),3))"
      ],
      "execution_count": 8,
      "outputs": [
        {
          "output_type": "stream",
          "text": [
            "F1 score: 0.89 ± 0.001\n"
          ],
          "name": "stdout"
        }
      ]
    }
  ]
}