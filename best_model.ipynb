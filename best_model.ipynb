{
  "nbformat": 4,
  "nbformat_minor": 0,
  "metadata": {
    "colab": {
      "name": "best-model.ipynb",
      "provenance": [],
      "collapsed_sections": []
    },
    "kernelspec": {
      "name": "python3",
      "display_name": "Python 3"
    }
  },
  "cells": [
    {
      "cell_type": "code",
      "metadata": {
        "id": "kLg19mZzh1Hf",
        "colab_type": "code",
        "colab": {}
      },
      "source": [
        "import numpy as np\n",
        "import pandas as pd\n",
        "import re\n",
        "\n",
        "from sklearn.feature_extraction.text import TfidfVectorizer\n",
        "from sklearn.model_selection import train_test_split\n",
        "from sklearn.linear_model import LogisticRegression\n",
        "from sklearn.metrics import f1_score "
      ],
      "execution_count": 0,
      "outputs": []
    },
    {
      "cell_type": "code",
      "metadata": {
        "id": "LSKCLz_ke9o1",
        "colab_type": "code",
        "outputId": "6d7a6cb9-eb9f-48d8-e83c-edc75b532c3f",
        "colab": {
          "base_uri": "https://localhost:8080/",
          "height": 781
        }
      },
      "source": [
        "!wget https://www.dropbox.com/s/r6u59ljhhjdg6j0/negative.csv\n",
        "!wget https://www.dropbox.com/s/fnpq3z4bcnoktiv/positive.csv"
      ],
      "execution_count": 2,
      "outputs": [
        {
          "output_type": "stream",
          "text": [
            "--2020-05-31 21:02:52--  https://www.dropbox.com/s/r6u59ljhhjdg6j0/negative.csv\n",
            "Resolving www.dropbox.com (www.dropbox.com)... 162.125.80.1, 2620:100:6032:1::a27d:5201\n",
            "Connecting to www.dropbox.com (www.dropbox.com)|162.125.80.1|:443... connected.\n",
            "HTTP request sent, awaiting response... 301 Moved Permanently\n",
            "Location: /s/raw/r6u59ljhhjdg6j0/negative.csv [following]\n",
            "--2020-05-31 21:02:52--  https://www.dropbox.com/s/raw/r6u59ljhhjdg6j0/negative.csv\n",
            "Reusing existing connection to www.dropbox.com:443.\n",
            "HTTP request sent, awaiting response... 302 Found\n",
            "Location: https://uc7b4fe7217f32577d81192992b7.dl.dropboxusercontent.com/cd/0/inline/A4zUCExziq5ckLISrKAXNOgTGQY9pQ52EHEQ8BMhV7vSU451vswmQNTDZ5D6fMWiggjrgGGMTW_ckNwbVSMFTUlWvxxjiD9976Im7yWsx2dI6w/file# [following]\n",
            "--2020-05-31 21:02:52--  https://uc7b4fe7217f32577d81192992b7.dl.dropboxusercontent.com/cd/0/inline/A4zUCExziq5ckLISrKAXNOgTGQY9pQ52EHEQ8BMhV7vSU451vswmQNTDZ5D6fMWiggjrgGGMTW_ckNwbVSMFTUlWvxxjiD9976Im7yWsx2dI6w/file\n",
            "Resolving uc7b4fe7217f32577d81192992b7.dl.dropboxusercontent.com (uc7b4fe7217f32577d81192992b7.dl.dropboxusercontent.com)... 162.125.80.6, 2620:100:6030:6::a27d:5006\n",
            "Connecting to uc7b4fe7217f32577d81192992b7.dl.dropboxusercontent.com (uc7b4fe7217f32577d81192992b7.dl.dropboxusercontent.com)|162.125.80.6|:443... connected.\n",
            "HTTP request sent, awaiting response... 200 OK\n",
            "Length: 24450101 (23M) [text/plain]\n",
            "Saving to: ‘negative.csv.2’\n",
            "\n",
            "negative.csv.2      100%[===================>]  23.32M  13.4MB/s    in 1.7s    \n",
            "\n",
            "2020-05-31 21:02:55 (13.4 MB/s) - ‘negative.csv.2’ saved [24450101/24450101]\n",
            "\n",
            "--2020-05-31 21:02:56--  https://www.dropbox.com/s/fnpq3z4bcnoktiv/positive.csv\n",
            "Resolving www.dropbox.com (www.dropbox.com)... 162.125.80.1, 2620:100:6032:1::a27d:5201\n",
            "Connecting to www.dropbox.com (www.dropbox.com)|162.125.80.1|:443... connected.\n",
            "HTTP request sent, awaiting response... 301 Moved Permanently\n",
            "Location: /s/raw/fnpq3z4bcnoktiv/positive.csv [following]\n",
            "--2020-05-31 21:02:57--  https://www.dropbox.com/s/raw/fnpq3z4bcnoktiv/positive.csv\n",
            "Reusing existing connection to www.dropbox.com:443.\n",
            "HTTP request sent, awaiting response... 302 Found\n",
            "Location: https://uc75f528864016fe752589cc628e.dl.dropboxusercontent.com/cd/0/inline/A4xmkVC1otE8ZMQRaqM0dynjnqn331HGbTSN4nUTgSqvDEKxfnR14CdCdj9UC5MwzY9Ncmy-bh-FgQCar536zfm6o3rV3kqlQrHHYDvSCfXXSg/file# [following]\n",
            "--2020-05-31 21:02:57--  https://uc75f528864016fe752589cc628e.dl.dropboxusercontent.com/cd/0/inline/A4xmkVC1otE8ZMQRaqM0dynjnqn331HGbTSN4nUTgSqvDEKxfnR14CdCdj9UC5MwzY9Ncmy-bh-FgQCar536zfm6o3rV3kqlQrHHYDvSCfXXSg/file\n",
            "Resolving uc75f528864016fe752589cc628e.dl.dropboxusercontent.com (uc75f528864016fe752589cc628e.dl.dropboxusercontent.com)... 162.125.80.6, 2620:100:6030:6::a27d:5006\n",
            "Connecting to uc75f528864016fe752589cc628e.dl.dropboxusercontent.com (uc75f528864016fe752589cc628e.dl.dropboxusercontent.com)|162.125.80.6|:443... connected.\n",
            "HTTP request sent, awaiting response... 200 OK\n",
            "Length: 26233379 (25M) [text/plain]\n",
            "Saving to: ‘positive.csv.2’\n",
            "\n",
            "positive.csv.2      100%[===================>]  25.02M  30.5MB/s    in 0.8s    \n",
            "\n",
            "2020-05-31 21:02:58 (30.5 MB/s) - ‘positive.csv.2’ saved [26233379/26233379]\n",
            "\n"
          ],
          "name": "stdout"
        }
      ]
    },
    {
      "cell_type": "code",
      "metadata": {
        "id": "LUna3qE0gSKi",
        "colab_type": "code",
        "colab": {}
      },
      "source": [
        "df = pd.concat((pd.read_csv(f, sep=';', header=None) for f in ['positive.csv', 'negative.csv']), ignore_index=True)"
      ],
      "execution_count": 0,
      "outputs": []
    },
    {
      "cell_type": "code",
      "metadata": {
        "id": "-RK6jWU5gSH-",
        "colab_type": "code",
        "colab": {}
      },
      "source": [
        "df = df.drop(columns=[0,1,2,5,6,7,8,9,10,11])\n",
        "df.columns=['text','target']\n",
        "df.target = df.target.map({-1:0, 1:1})\n",
        "y = df.target.values"
      ],
      "execution_count": 0,
      "outputs": []
    },
    {
      "cell_type": "code",
      "metadata": {
        "id": "5WlHWjfphUvM",
        "colab_type": "code",
        "colab": {}
      },
      "source": [
        "replaces = [\n",
        " ['[:;][(]+',' <NSMILE> '],\n",
        " ['[:;]-[(]+',' <NSMILE> '],\n",
        " ['\\([(]+',' <NSMILE> '], \n",
        " ['[:;][)]+',' <PSMILE> '], \n",
        " ['[:;]-[)]+',' <PSMILE> '], \n",
        " ['\\)[)]+',' <PSMILE> '], \n",
        " ['@[_*:,А-Я,а-я,A-Z,a-z,0-9]+\\s',' <UNAME> '],\n",
        " ['http:[\\.,/,0-9,a-z,A-Z]+[\\s|$]?', ' <HTTP> '] \n",
        "]\n",
        "\n",
        "def add_tokens(s):\n",
        "    for l, r in replaces:\n",
        "        s = re.sub(l, r, s)\n",
        "    return s "
      ],
      "execution_count": 0,
      "outputs": []
    },
    {
      "cell_type": "code",
      "metadata": {
        "id": "GMJ8KUmEgvQS",
        "colab_type": "code",
        "colab": {}
      },
      "source": [
        "best_C = 5\n",
        "best_word_ngram = 2"
      ],
      "execution_count": 0,
      "outputs": []
    },
    {
      "cell_type": "code",
      "metadata": {
        "id": "VdWPZC_xhUpd",
        "colab_type": "code",
        "colab": {}
      },
      "source": [
        "df['text_with_tokens'] = df.text.apply(add_tokens)\n",
        "\n",
        "vectorizer = TfidfVectorizer(\n",
        "    ngram_range=(1,best_word_ngram),\n",
        ")\n",
        "x = vectorizer.fit_transform(df.text_with_tokens)"
      ],
      "execution_count": 0,
      "outputs": []
    },
    {
      "cell_type": "code",
      "metadata": {
        "id": "3pZQRoYRv3-E",
        "colab_type": "code",
        "outputId": "69af6ada-0ca1-4e86-eab3-fde140052f0b",
        "colab": {
          "base_uri": "https://localhost:8080/",
          "height": 110
        }
      },
      "source": [
        "np.random.seed(42)\n",
        "\n",
        "f1_scores = []\n",
        "for seed in np.random.randint(1000, size=(5)):\n",
        "    x_train, x_test, y_train, y_test = train_test_split(x, y, random_state=seed)\n",
        "    clf = LogisticRegression(\n",
        "                          C=best_C, random_state=42, \n",
        "                          solver = 'saga', \n",
        "                          max_iter = 100,\n",
        "                          verbose=0,\n",
        "                          )\n",
        "    clf.fit(x_train, y_train)\n",
        "    y_pred = clf.predict(x_test)\n",
        "    print(f1_score(y_pred, y_test))\n",
        "    f1_scores += [f1_score(y_pred, y_test)]"
      ],
      "execution_count": 8,
      "outputs": [
        {
          "output_type": "stream",
          "text": [
            "0.9011099392295716\n",
            "0.9017222892373676\n",
            "0.9020161290322581\n",
            "0.9023787509456166\n",
            "0.9029259781222736\n"
          ],
          "name": "stdout"
        }
      ]
    },
    {
      "cell_type": "code",
      "metadata": {
        "id": "51RA9MKuLbV0",
        "colab_type": "code",
        "outputId": "9e9ebd84-5067-4c59-a1ad-7db67cbd9ae7",
        "colab": {
          "base_uri": "https://localhost:8080/",
          "height": 36
        }
      },
      "source": [
        "print('F1 score:', np.round(np.mean(f1_scores),3),'\\xB1' ,np.round(np.std(f1_scores),3))"
      ],
      "execution_count": 9,
      "outputs": [
        {
          "output_type": "stream",
          "text": [
            "F1 score: 0.902 ± 0.001\n"
          ],
          "name": "stdout"
        }
      ]
    }
  ]
}