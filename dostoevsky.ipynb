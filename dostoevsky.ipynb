{
  "nbformat": 4,
  "nbformat_minor": 0,
  "metadata": {
    "colab": {
      "name": "dostoevsky.ipynb",
      "provenance": [],
      "collapsed_sections": []
    },
    "kernelspec": {
      "name": "python3",
      "display_name": "Python 3"
    }
  },
  "cells": [
    {
      "cell_type": "code",
      "metadata": {
        "id": "AibYeDlWRbVb",
        "colab_type": "code",
        "colab": {}
      },
      "source": [
        "!pip install dostoevsky"
      ],
      "execution_count": 0,
      "outputs": []
    },
    {
      "cell_type": "code",
      "metadata": {
        "id": "aH-lEnRZRps_",
        "colab_type": "code",
        "colab": {}
      },
      "source": [
        "!wget https://www.dropbox.com/s/r6u59ljhhjdg6j0/negative.csv\n",
        "!wget https://www.dropbox.com/s/fnpq3z4bcnoktiv/positive.csv"
      ],
      "execution_count": 0,
      "outputs": []
    },
    {
      "cell_type": "code",
      "metadata": {
        "id": "mJM2JuIUR5tX",
        "colab_type": "code",
        "colab": {}
      },
      "source": [
        "!python -m dostoevsky download fasttext-social-network-model"
      ],
      "execution_count": 0,
      "outputs": []
    },
    {
      "cell_type": "code",
      "metadata": {
        "id": "7EltXbH5SJrQ",
        "colab_type": "code",
        "colab": {}
      },
      "source": [
        "import pandas as pd\n",
        "from sklearn.metrics import f1_score \n",
        "\n",
        "from dostoevsky.tokenization import RegexTokenizer\n",
        "from dostoevsky.models import FastTextSocialNetworkModel"
      ],
      "execution_count": 0,
      "outputs": []
    },
    {
      "cell_type": "code",
      "metadata": {
        "id": "DohI33fER-xW",
        "colab_type": "code",
        "colab": {}
      },
      "source": [
        "df = pd.concat((pd.read_csv(f, sep=';', header=None) for f in ['positive.csv', 'negative.csv']), ignore_index=True)\n",
        "df = df.drop(columns=[0,1,2,5,6,7,8,9,10,11])\n",
        "df.columns=['text','target']\n",
        "df.target = df.target.map({-1:0, 1:1})"
      ],
      "execution_count": 0,
      "outputs": []
    },
    {
      "cell_type": "code",
      "metadata": {
        "id": "ZA-7FtBiSQF8",
        "colab_type": "code",
        "colab": {
          "base_uri": "https://localhost:8080/",
          "height": 222
        },
        "outputId": "77ddd345-db25-4874-da5e-f66b73141331"
      },
      "source": [
        "tokenizer = RegexTokenizer()\n",
        "model = FastTextSocialNetworkModel(tokenizer=tokenizer)\n",
        "results = model.predict(df.text, k=5)\n",
        "results[0:2]"
      ],
      "execution_count": 6,
      "outputs": [
        {
          "output_type": "stream",
          "text": [
            "\n"
          ],
          "name": "stderr"
        },
        {
          "output_type": "execute_result",
          "data": {
            "text/plain": [
              "[{'negative': 0.16027602553367615,\n",
              "  'neutral': 0.1778208613395691,\n",
              "  'positive': 0.3276783227920532,\n",
              "  'skip': 0.18714269995689392,\n",
              "  'speech': 0.004478383809328079},\n",
              " {'negative': 0.053413331508636475,\n",
              "  'neutral': 0.3276783227920532,\n",
              "  'positive': 0.21734751760959625,\n",
              "  'skip': 0.1520422399044037,\n",
              "  'speech': 0.005564924795180559}]"
            ]
          },
          "metadata": {
            "tags": []
          },
          "execution_count": 6
        }
      ]
    },
    {
      "cell_type": "code",
      "metadata": {
        "id": "gNajPCBWSwdu",
        "colab_type": "code",
        "colab": {
          "base_uri": "https://localhost:8080/",
          "height": 36
        },
        "outputId": "b24430cb-dad4-4bff-b693-680ed96bf57f"
      },
      "source": [
        "def get_sentiment(x):\n",
        "  return 0 if x['negative'] > x['positive'] else 1  \n",
        "y_pred = [get_sentiment(x) for x in results]\n",
        "print('F1 score:', f1_score(y_pred, df.target))"
      ],
      "execution_count": 7,
      "outputs": [
        {
          "output_type": "stream",
          "text": [
            "F1 score: 0.7916384362814542\n"
          ],
          "name": "stdout"
        }
      ]
    }
  ]
}